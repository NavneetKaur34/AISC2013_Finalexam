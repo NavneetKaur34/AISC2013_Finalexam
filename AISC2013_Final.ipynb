{
 "cells": [
  {
   "cell_type": "markdown",
   "id": "5691133c",
   "metadata": {},
   "source": [
    "### Importing Libraries"
   ]
  },
  {
   "cell_type": "code",
   "execution_count": 33,
   "id": "5b23ea5f",
   "metadata": {},
   "outputs": [],
   "source": [
    "import numpy as np\n",
    "import pandas as pd\n",
    "import matplotlib.pyplot as plt\n",
    "import seaborn as sns\n",
    "import plotly.express as px"
   ]
  },
  {
   "cell_type": "markdown",
   "id": "5dacfa21",
   "metadata": {},
   "source": [
    "### Data Loading"
   ]
  },
  {
   "cell_type": "code",
   "execution_count": 2,
   "id": "4431dfef",
   "metadata": {},
   "outputs": [
    {
     "data": {
      "text/html": [
       "<div>\n",
       "<style scoped>\n",
       "    .dataframe tbody tr th:only-of-type {\n",
       "        vertical-align: middle;\n",
       "    }\n",
       "\n",
       "    .dataframe tbody tr th {\n",
       "        vertical-align: top;\n",
       "    }\n",
       "\n",
       "    .dataframe thead th {\n",
       "        text-align: right;\n",
       "    }\n",
       "</style>\n",
       "<table border=\"1\" class=\"dataframe\">\n",
       "  <thead>\n",
       "    <tr style=\"text-align: right;\">\n",
       "      <th></th>\n",
       "      <th>Age</th>\n",
       "      <th>Gender</th>\n",
       "      <th>Education Level</th>\n",
       "      <th>Job Title</th>\n",
       "      <th>Years of Experience</th>\n",
       "      <th>Salary</th>\n",
       "      <th>Country</th>\n",
       "      <th>Race</th>\n",
       "      <th>Senior</th>\n",
       "    </tr>\n",
       "  </thead>\n",
       "  <tbody>\n",
       "    <tr>\n",
       "      <th>0</th>\n",
       "      <td>32</td>\n",
       "      <td>Male</td>\n",
       "      <td>1</td>\n",
       "      <td>Software Engineer</td>\n",
       "      <td>5.0</td>\n",
       "      <td>90000</td>\n",
       "      <td>UK</td>\n",
       "      <td>White</td>\n",
       "      <td>0</td>\n",
       "    </tr>\n",
       "    <tr>\n",
       "      <th>1</th>\n",
       "      <td>28</td>\n",
       "      <td>Female</td>\n",
       "      <td>2</td>\n",
       "      <td>Data Analyst</td>\n",
       "      <td>3.0</td>\n",
       "      <td>65000</td>\n",
       "      <td>USA</td>\n",
       "      <td>Hispanic</td>\n",
       "      <td>0</td>\n",
       "    </tr>\n",
       "    <tr>\n",
       "      <th>2</th>\n",
       "      <td>45</td>\n",
       "      <td>Male</td>\n",
       "      <td>3</td>\n",
       "      <td>Manager</td>\n",
       "      <td>15.0</td>\n",
       "      <td>150000</td>\n",
       "      <td>Canada</td>\n",
       "      <td>White</td>\n",
       "      <td>1</td>\n",
       "    </tr>\n",
       "    <tr>\n",
       "      <th>3</th>\n",
       "      <td>36</td>\n",
       "      <td>Female</td>\n",
       "      <td>1</td>\n",
       "      <td>Sales Associate</td>\n",
       "      <td>7.0</td>\n",
       "      <td>60000</td>\n",
       "      <td>USA</td>\n",
       "      <td>Hispanic</td>\n",
       "      <td>0</td>\n",
       "    </tr>\n",
       "    <tr>\n",
       "      <th>4</th>\n",
       "      <td>52</td>\n",
       "      <td>Male</td>\n",
       "      <td>2</td>\n",
       "      <td>Director</td>\n",
       "      <td>20.0</td>\n",
       "      <td>200000</td>\n",
       "      <td>USA</td>\n",
       "      <td>Asian</td>\n",
       "      <td>0</td>\n",
       "    </tr>\n",
       "  </tbody>\n",
       "</table>\n",
       "</div>"
      ],
      "text/plain": [
       "   Age  Gender  Education Level          Job Title  Years of Experience  \\\n",
       "0   32    Male                1  Software Engineer                  5.0   \n",
       "1   28  Female                2       Data Analyst                  3.0   \n",
       "2   45    Male                3            Manager                 15.0   \n",
       "3   36  Female                1    Sales Associate                  7.0   \n",
       "4   52    Male                2           Director                 20.0   \n",
       "\n",
       "   Salary Country      Race  Senior  \n",
       "0   90000      UK     White       0  \n",
       "1   65000     USA  Hispanic       0  \n",
       "2  150000  Canada     White       1  \n",
       "3   60000     USA  Hispanic       0  \n",
       "4  200000     USA     Asian       0  "
      ]
     },
     "execution_count": 2,
     "metadata": {},
     "output_type": "execute_result"
    }
   ],
   "source": [
    "# showing first 5 rows of the dataset\n",
    "data = pd.read_csv(\"salaries.csv\")\n",
    "data.head(5)"
   ]
  },
  {
   "cell_type": "code",
   "execution_count": 3,
   "id": "ec6f58b1",
   "metadata": {},
   "outputs": [
    {
     "data": {
      "text/html": [
       "<div>\n",
       "<style scoped>\n",
       "    .dataframe tbody tr th:only-of-type {\n",
       "        vertical-align: middle;\n",
       "    }\n",
       "\n",
       "    .dataframe tbody tr th {\n",
       "        vertical-align: top;\n",
       "    }\n",
       "\n",
       "    .dataframe thead th {\n",
       "        text-align: right;\n",
       "    }\n",
       "</style>\n",
       "<table border=\"1\" class=\"dataframe\">\n",
       "  <thead>\n",
       "    <tr style=\"text-align: right;\">\n",
       "      <th></th>\n",
       "      <th>Age</th>\n",
       "      <th>Gender</th>\n",
       "      <th>Education Level</th>\n",
       "      <th>Job Title</th>\n",
       "      <th>Years of Experience</th>\n",
       "      <th>Salary</th>\n",
       "      <th>Country</th>\n",
       "      <th>Race</th>\n",
       "      <th>Senior</th>\n",
       "    </tr>\n",
       "  </thead>\n",
       "  <tbody>\n",
       "    <tr>\n",
       "      <th>6679</th>\n",
       "      <td>49</td>\n",
       "      <td>Female</td>\n",
       "      <td>3</td>\n",
       "      <td>Director of Marketing</td>\n",
       "      <td>20.0</td>\n",
       "      <td>200000</td>\n",
       "      <td>UK</td>\n",
       "      <td>Mixed</td>\n",
       "      <td>0</td>\n",
       "    </tr>\n",
       "    <tr>\n",
       "      <th>6680</th>\n",
       "      <td>32</td>\n",
       "      <td>Male</td>\n",
       "      <td>0</td>\n",
       "      <td>Sales Associate</td>\n",
       "      <td>3.0</td>\n",
       "      <td>50000</td>\n",
       "      <td>Australia</td>\n",
       "      <td>Australian</td>\n",
       "      <td>0</td>\n",
       "    </tr>\n",
       "    <tr>\n",
       "      <th>6681</th>\n",
       "      <td>30</td>\n",
       "      <td>Female</td>\n",
       "      <td>1</td>\n",
       "      <td>Financial Manager</td>\n",
       "      <td>4.0</td>\n",
       "      <td>55000</td>\n",
       "      <td>China</td>\n",
       "      <td>Chinese</td>\n",
       "      <td>0</td>\n",
       "    </tr>\n",
       "    <tr>\n",
       "      <th>6682</th>\n",
       "      <td>46</td>\n",
       "      <td>Male</td>\n",
       "      <td>2</td>\n",
       "      <td>Marketing Manager</td>\n",
       "      <td>14.0</td>\n",
       "      <td>140000</td>\n",
       "      <td>China</td>\n",
       "      <td>Korean</td>\n",
       "      <td>0</td>\n",
       "    </tr>\n",
       "    <tr>\n",
       "      <th>6683</th>\n",
       "      <td>26</td>\n",
       "      <td>Female</td>\n",
       "      <td>0</td>\n",
       "      <td>Sales Executive</td>\n",
       "      <td>1.0</td>\n",
       "      <td>35000</td>\n",
       "      <td>Canada</td>\n",
       "      <td>Black</td>\n",
       "      <td>0</td>\n",
       "    </tr>\n",
       "  </tbody>\n",
       "</table>\n",
       "</div>"
      ],
      "text/plain": [
       "      Age  Gender  Education Level              Job Title  \\\n",
       "6679   49  Female                3  Director of Marketing   \n",
       "6680   32    Male                0        Sales Associate   \n",
       "6681   30  Female                1      Financial Manager   \n",
       "6682   46    Male                2      Marketing Manager   \n",
       "6683   26  Female                0        Sales Executive   \n",
       "\n",
       "      Years of Experience  Salary    Country        Race  Senior  \n",
       "6679                 20.0  200000         UK       Mixed       0  \n",
       "6680                  3.0   50000  Australia  Australian       0  \n",
       "6681                  4.0   55000      China     Chinese       0  \n",
       "6682                 14.0  140000      China      Korean       0  \n",
       "6683                  1.0   35000     Canada       Black       0  "
      ]
     },
     "execution_count": 3,
     "metadata": {},
     "output_type": "execute_result"
    }
   ],
   "source": [
    "# showing last five rows of the dataset\n",
    "data.tail(5)"
   ]
  },
  {
   "cell_type": "markdown",
   "id": "2a3ffa97",
   "metadata": {},
   "source": [
    "### Checking the dataset"
   ]
  },
  {
   "cell_type": "code",
   "execution_count": 5,
   "id": "caf7950e",
   "metadata": {},
   "outputs": [
    {
     "data": {
      "text/plain": [
       "(6684, 9)"
      ]
     },
     "execution_count": 5,
     "metadata": {},
     "output_type": "execute_result"
    }
   ],
   "source": [
    "data.shape"
   ]
  },
  {
   "cell_type": "code",
   "execution_count": 6,
   "id": "b81e1789",
   "metadata": {},
   "outputs": [
    {
     "name": "stdout",
     "output_type": "stream",
     "text": [
      "<class 'pandas.core.frame.DataFrame'>\n",
      "RangeIndex: 6684 entries, 0 to 6683\n",
      "Data columns (total 9 columns):\n",
      " #   Column               Non-Null Count  Dtype  \n",
      "---  ------               --------------  -----  \n",
      " 0   Age                  6684 non-null   int64  \n",
      " 1   Gender               6684 non-null   object \n",
      " 2   Education Level      6684 non-null   int64  \n",
      " 3   Job Title            6684 non-null   object \n",
      " 4   Years of Experience  6684 non-null   float64\n",
      " 5   Salary               6684 non-null   int64  \n",
      " 6   Country              6684 non-null   object \n",
      " 7   Race                 6684 non-null   object \n",
      " 8   Senior               6684 non-null   int64  \n",
      "dtypes: float64(1), int64(4), object(4)\n",
      "memory usage: 470.1+ KB\n"
     ]
    }
   ],
   "source": [
    "data.info()"
   ]
  },
  {
   "cell_type": "code",
   "execution_count": 8,
   "id": "f830f925",
   "metadata": {},
   "outputs": [
    {
     "data": {
      "text/html": [
       "<div>\n",
       "<style scoped>\n",
       "    .dataframe tbody tr th:only-of-type {\n",
       "        vertical-align: middle;\n",
       "    }\n",
       "\n",
       "    .dataframe tbody tr th {\n",
       "        vertical-align: top;\n",
       "    }\n",
       "\n",
       "    .dataframe thead th {\n",
       "        text-align: right;\n",
       "    }\n",
       "</style>\n",
       "<table border=\"1\" class=\"dataframe\">\n",
       "  <thead>\n",
       "    <tr style=\"text-align: right;\">\n",
       "      <th></th>\n",
       "      <th>count</th>\n",
       "      <th>mean</th>\n",
       "      <th>std</th>\n",
       "      <th>min</th>\n",
       "      <th>25%</th>\n",
       "      <th>50%</th>\n",
       "      <th>75%</th>\n",
       "      <th>max</th>\n",
       "    </tr>\n",
       "  </thead>\n",
       "  <tbody>\n",
       "    <tr>\n",
       "      <th>Age</th>\n",
       "      <td>6684.0</td>\n",
       "      <td>33.610563</td>\n",
       "      <td>7.595994</td>\n",
       "      <td>21.0</td>\n",
       "      <td>28.0</td>\n",
       "      <td>32.0</td>\n",
       "      <td>38.0</td>\n",
       "      <td>62.0</td>\n",
       "    </tr>\n",
       "    <tr>\n",
       "      <th>Education Level</th>\n",
       "      <td>6684.0</td>\n",
       "      <td>1.622382</td>\n",
       "      <td>0.880474</td>\n",
       "      <td>0.0</td>\n",
       "      <td>1.0</td>\n",
       "      <td>1.0</td>\n",
       "      <td>2.0</td>\n",
       "      <td>3.0</td>\n",
       "    </tr>\n",
       "    <tr>\n",
       "      <th>Years of Experience</th>\n",
       "      <td>6684.0</td>\n",
       "      <td>8.077723</td>\n",
       "      <td>6.029305</td>\n",
       "      <td>0.0</td>\n",
       "      <td>3.0</td>\n",
       "      <td>7.0</td>\n",
       "      <td>12.0</td>\n",
       "      <td>34.0</td>\n",
       "    </tr>\n",
       "    <tr>\n",
       "      <th>Salary</th>\n",
       "      <td>6684.0</td>\n",
       "      <td>115307.175194</td>\n",
       "      <td>52806.810881</td>\n",
       "      <td>350.0</td>\n",
       "      <td>70000.0</td>\n",
       "      <td>115000.0</td>\n",
       "      <td>160000.0</td>\n",
       "      <td>250000.0</td>\n",
       "    </tr>\n",
       "    <tr>\n",
       "      <th>Senior</th>\n",
       "      <td>6684.0</td>\n",
       "      <td>0.143477</td>\n",
       "      <td>0.350585</td>\n",
       "      <td>0.0</td>\n",
       "      <td>0.0</td>\n",
       "      <td>0.0</td>\n",
       "      <td>0.0</td>\n",
       "      <td>1.0</td>\n",
       "    </tr>\n",
       "  </tbody>\n",
       "</table>\n",
       "</div>"
      ],
      "text/plain": [
       "                      count           mean           std    min      25%  \\\n",
       "Age                  6684.0      33.610563      7.595994   21.0     28.0   \n",
       "Education Level      6684.0       1.622382      0.880474    0.0      1.0   \n",
       "Years of Experience  6684.0       8.077723      6.029305    0.0      3.0   \n",
       "Salary               6684.0  115307.175194  52806.810881  350.0  70000.0   \n",
       "Senior               6684.0       0.143477      0.350585    0.0      0.0   \n",
       "\n",
       "                          50%       75%       max  \n",
       "Age                      32.0      38.0      62.0  \n",
       "Education Level           1.0       2.0       3.0  \n",
       "Years of Experience       7.0      12.0      34.0  \n",
       "Salary               115000.0  160000.0  250000.0  \n",
       "Senior                    0.0       0.0       1.0  "
      ]
     },
     "execution_count": 8,
     "metadata": {},
     "output_type": "execute_result"
    }
   ],
   "source": [
    "data.describe().T"
   ]
  },
  {
   "cell_type": "code",
   "execution_count": 9,
   "id": "e179220f",
   "metadata": {},
   "outputs": [
    {
     "data": {
      "text/plain": [
       "Age                    0\n",
       "Gender                 0\n",
       "Education Level        0\n",
       "Job Title              0\n",
       "Years of Experience    0\n",
       "Salary                 0\n",
       "Country                0\n",
       "Race                   0\n",
       "Senior                 0\n",
       "dtype: int64"
      ]
     },
     "execution_count": 9,
     "metadata": {},
     "output_type": "execute_result"
    }
   ],
   "source": [
    "data.isnull().sum()"
   ]
  },
  {
   "cell_type": "code",
   "execution_count": 12,
   "id": "6960ee30",
   "metadata": {},
   "outputs": [
    {
     "data": {
      "text/plain": [
       "Index(['Age', 'Gender', 'Education Level', 'Job Title', 'Years of Experience',\n",
       "       'Salary', 'Country', 'Race', 'Senior'],\n",
       "      dtype='object')"
      ]
     },
     "execution_count": 12,
     "metadata": {},
     "output_type": "execute_result"
    }
   ],
   "source": [
    "data.columns"
   ]
  },
  {
   "cell_type": "markdown",
   "id": "7a61ea03",
   "metadata": {},
   "source": [
    "### EDA"
   ]
  },
  {
   "cell_type": "markdown",
   "id": "42fa350b",
   "metadata": {},
   "source": [
    "1. Plotting histogram"
   ]
  },
  {
   "cell_type": "code",
   "execution_count": 18,
   "id": "d0a40a7a",
   "metadata": {},
   "outputs": [
    {
     "data": {
      "image/png": "[encoded data removed]",
      "text/plain": [
       "<Figure size 576x432 with 1 Axes>"
      ]
     },
     "metadata": {
      "needs_background": "light"
     },
     "output_type": "display_data"
    }
   ],
   "source": [
    "plt.figure(figsize=(8, 6))\n",
    "plt.hist(data['Salary'], bins=20, color='skyblue')\n",
    "plt.xlabel('Salary')\n",
    "plt.ylabel('Gender')\n",
    "plt.title('Salary Distribution')\n",
    "plt.show()"
   ]
  },
  {
   "cell_type": "markdown",
   "id": "20e8147a",
   "metadata": {},
   "source": [
    "2. Plotting boxplot to check outliers"
   ]
  },
  {
   "cell_type": "code",
   "execution_count": 20,
   "id": "fb5a7080",
   "metadata": {},
   "outputs": [
    {
     "data": {
      "image/png": "[encoded data removed]",
      "text/plain": [
       "<Figure size 576x432 with 1 Axes>"
      ]
     },
     "metadata": {
      "needs_background": "light"
     },
     "output_type": "display_data"
    }
   ],
   "source": [
    "plt.figure(figsize=(8, 6))\n",
    "plt.boxplot(data['Salary'])\n",
    "plt.ylabel('Salary')\n",
    "plt.title('Boxplot of Salary')\n",
    "plt.show()"
   ]
  },
  {
   "cell_type": "markdown",
   "id": "1ee20a26",
   "metadata": {},
   "source": [
    "3. Plotting bar graph"
   ]
  },
  {
   "cell_type": "code",
   "execution_count": 30,
   "id": "92a51ad5",
   "metadata": {},
   "outputs": [
    {
     "data": {
      "image/png": "[encoded data removed]",
      "text/plain": [
       "<Figure size 720x432 with 1 Axes>"
      ]
     },
     "metadata": {
      "needs_background": "light"
     },
     "output_type": "display_data"
    }
   ],
   "source": [
    "plt.figure(figsize=(10, 6))\n",
    "data['Gender'].value_counts().plot(kind='bar', color='salmon')\n",
    "plt.xlabel('Job Title')\n",
    "plt.ylabel('Count')\n",
    "plt.title('Count of Job Titles')\n",
    "plt.xticks(rotation=45)\n",
    "plt.show()"
   ]
  },
  {
   "cell_type": "markdown",
   "id": "4bb7c7fd",
   "metadata": {},
   "source": [
    "4. Plotting Scatter plot"
   ]
  },
  {
   "cell_type": "code",
   "execution_count": 27,
   "id": "4ebcb573",
   "metadata": {},
   "outputs": [
    {
     "data": {
      "image/png": "[encoded data removed]",
      "text/plain": [
       "<Figure size 576x432 with 1 Axes>"
      ]
     },
     "metadata": {
      "needs_background": "light"
     },
     "output_type": "display_data"
    }
   ],
   "source": [
    "plt.figure(figsize=(8, 6))\n",
    "plt.scatter(data['Years of Experience'], data['Salary'], color='green')\n",
    "plt.xlabel('Years of Experience')\n",
    "plt.ylabel('Salary')\n",
    "plt.title('Salary vs Years of Experience')\n",
    "plt.show()"
   ]
  },
  {
   "cell_type": "markdown",
   "id": "873d6231",
   "metadata": {},
   "source": [
    "5. Correlation matrix"
   ]
  },
  {
   "cell_type": "code",
   "execution_count": 28,
   "id": "267f006d",
   "metadata": {},
   "outputs": [
    {
     "name": "stdout",
     "output_type": "stream",
     "text": [
      "                          Age  Education Level  Years of Experience    Salary  \\\n",
      "Age                  1.000000         0.596380             0.937609  0.728343   \n",
      "Education Level      0.596380         1.000000             0.613165  0.645444   \n",
      "Years of Experience  0.937609         0.613165             1.000000  0.810942   \n",
      "Salary               0.728343         0.645444             0.810942  1.000000   \n",
      "Senior               0.334070         0.273466             0.317877  0.223636   \n",
      "\n",
      "                       Senior  \n",
      "Age                  0.334070  \n",
      "Education Level      0.273466  \n",
      "Years of Experience  0.317877  \n",
      "Salary               0.223636  \n",
      "Senior               1.000000  \n"
     ]
    }
   ],
   "source": [
    "correlation_matrix = data.corr()\n",
    "print(correlation_matrix)"
   ]
  },
  {
   "cell_type": "code",
   "execution_count": 37,
   "id": "b2a45330",
   "metadata": {},
   "outputs": [
    {
     "data": {
      "text/plain": [
       "<AxesSubplot:>"
      ]
     },
     "execution_count": 37,
     "metadata": {},
     "output_type": "execute_result"
    },
    {
     "data": {
      "image/png": "[encoded data removed]",
      "text/plain": [
       "<Figure size 576x360 with 2 Axes>"
      ]
     },
     "metadata": {
      "needs_background": "light"
     },
     "output_type": "display_data"
    }
   ],
   "source": [
    "corr_matrix=data.corr()\n",
    "plt.figure(1, figsize=(8,5))\n",
    "sns.heatmap(corr_matrix, cmap='crest', center=0, annot=True)"
   ]
  },
  {
   "cell_type": "markdown",
   "id": "ea1d77ef",
   "metadata": {},
   "source": [
    "### Machine Learning (Linear Regression)"
   ]
  },
  {
   "cell_type": "code",
   "execution_count": 38,
   "id": "4178428d",
   "metadata": {},
   "outputs": [],
   "source": [
    "from sklearn.model_selection import train_test_split\n",
    "from sklearn.linear_model import LinearRegression\n",
    "from sklearn.metrics import mean_squared_error, r2_score"
   ]
  },
  {
   "cell_type": "code",
   "execution_count": 39,
   "id": "80ce3d59",
   "metadata": {},
   "outputs": [
    {
     "data": {
      "text/html": [
       "<div>\n",
       "<style scoped>\n",
       "    .dataframe tbody tr th:only-of-type {\n",
       "        vertical-align: middle;\n",
       "    }\n",
       "\n",
       "    .dataframe tbody tr th {\n",
       "        vertical-align: top;\n",
       "    }\n",
       "\n",
       "    .dataframe thead th {\n",
       "        text-align: right;\n",
       "    }\n",
       "</style>\n",
       "<table border=\"1\" class=\"dataframe\">\n",
       "  <thead>\n",
       "    <tr style=\"text-align: right;\">\n",
       "      <th></th>\n",
       "      <th>Age</th>\n",
       "      <th>Gender</th>\n",
       "      <th>Education Level</th>\n",
       "      <th>Job Title</th>\n",
       "      <th>Years of Experience</th>\n",
       "      <th>Salary</th>\n",
       "      <th>Country</th>\n",
       "      <th>Race</th>\n",
       "      <th>Senior</th>\n",
       "    </tr>\n",
       "  </thead>\n",
       "  <tbody>\n",
       "    <tr>\n",
       "      <th>0</th>\n",
       "      <td>32</td>\n",
       "      <td>Male</td>\n",
       "      <td>1</td>\n",
       "      <td>Software Engineer</td>\n",
       "      <td>5.0</td>\n",
       "      <td>90000</td>\n",
       "      <td>UK</td>\n",
       "      <td>White</td>\n",
       "      <td>0</td>\n",
       "    </tr>\n",
       "    <tr>\n",
       "      <th>1</th>\n",
       "      <td>28</td>\n",
       "      <td>Female</td>\n",
       "      <td>2</td>\n",
       "      <td>Data Analyst</td>\n",
       "      <td>3.0</td>\n",
       "      <td>65000</td>\n",
       "      <td>USA</td>\n",
       "      <td>Hispanic</td>\n",
       "      <td>0</td>\n",
       "    </tr>\n",
       "    <tr>\n",
       "      <th>2</th>\n",
       "      <td>45</td>\n",
       "      <td>Male</td>\n",
       "      <td>3</td>\n",
       "      <td>Manager</td>\n",
       "      <td>15.0</td>\n",
       "      <td>150000</td>\n",
       "      <td>Canada</td>\n",
       "      <td>White</td>\n",
       "      <td>1</td>\n",
       "    </tr>\n",
       "    <tr>\n",
       "      <th>3</th>\n",
       "      <td>36</td>\n",
       "      <td>Female</td>\n",
       "      <td>1</td>\n",
       "      <td>Sales Associate</td>\n",
       "      <td>7.0</td>\n",
       "      <td>60000</td>\n",
       "      <td>USA</td>\n",
       "      <td>Hispanic</td>\n",
       "      <td>0</td>\n",
       "    </tr>\n",
       "    <tr>\n",
       "      <th>4</th>\n",
       "      <td>52</td>\n",
       "      <td>Male</td>\n",
       "      <td>2</td>\n",
       "      <td>Director</td>\n",
       "      <td>20.0</td>\n",
       "      <td>200000</td>\n",
       "      <td>USA</td>\n",
       "      <td>Asian</td>\n",
       "      <td>0</td>\n",
       "    </tr>\n",
       "  </tbody>\n",
       "</table>\n",
       "</div>"
      ],
      "text/plain": [
       "   Age  Gender  Education Level          Job Title  Years of Experience  \\\n",
       "0   32    Male                1  Software Engineer                  5.0   \n",
       "1   28  Female                2       Data Analyst                  3.0   \n",
       "2   45    Male                3            Manager                 15.0   \n",
       "3   36  Female                1    Sales Associate                  7.0   \n",
       "4   52    Male                2           Director                 20.0   \n",
       "\n",
       "   Salary Country      Race  Senior  \n",
       "0   90000      UK     White       0  \n",
       "1   65000     USA  Hispanic       0  \n",
       "2  150000  Canada     White       1  \n",
       "3   60000     USA  Hispanic       0  \n",
       "4  200000     USA     Asian       0  "
      ]
     },
     "execution_count": 39,
     "metadata": {},
     "output_type": "execute_result"
    }
   ],
   "source": [
    "data.head()"
   ]
  },
  {
   "cell_type": "code",
   "execution_count": 45,
   "id": "3e24a528",
   "metadata": {},
   "outputs": [],
   "source": [
    "X = data['Years of Experience'].values.reshape(-1, 1)  \n",
    "y = data['Salary']"
   ]
  },
  {
   "cell_type": "code",
   "execution_count": 46,
   "id": "74db189e",
   "metadata": {},
   "outputs": [],
   "source": [
    "# Splitting the dataset into train and test\n",
    "X_train, X_test, y_train, y_test = train_test_split(X, y, test_size=0.2, random_state=42)"
   ]
  },
  {
   "cell_type": "code",
   "execution_count": 47,
   "id": "5be8a29d",
   "metadata": {},
   "outputs": [
    {
     "data": {
      "text/plain": [
       "LinearRegression()"
      ]
     },
     "execution_count": 47,
     "metadata": {},
     "output_type": "execute_result"
    }
   ],
   "source": [
    "model = LinearRegression()\n",
    "model.fit(X_train, y_train)"
   ]
  },
  {
   "cell_type": "code",
   "execution_count": 48,
   "id": "d7d4030a",
   "metadata": {},
   "outputs": [],
   "source": [
    "y_pred = model.predict(X_test)"
   ]
  },
  {
   "cell_type": "code",
   "execution_count": 49,
   "id": "b2f987bb",
   "metadata": {},
   "outputs": [
    {
     "name": "stdout",
     "output_type": "stream",
     "text": [
      "Coefficients: [7125.59201509]\n",
      "Intercept: 57856.98983306013\n"
     ]
    }
   ],
   "source": [
    "print('Coefficients:', model.coef_)\n",
    "print('Intercept:', model.intercept_)"
   ]
  },
  {
   "cell_type": "code",
   "execution_count": 54,
   "id": "31ba90dd",
   "metadata": {},
   "outputs": [
    {
     "name": "stdout",
     "output_type": "stream",
     "text": [
      "Mean Squared Error: 953178393.9509805\n",
      "R^2 Score: 0.6569957598030858\n"
     ]
    }
   ],
   "source": [
    "print('Mean Squared Error:', mean_squared_error(y_test, y_pred))\n",
    "print('R^2 Score:', r2_score(y_test, y_pred))"
   ]
  },
  {
   "cell_type": "code",
   "execution_count": 60,
   "id": "b3b2479f",
   "metadata": {},
   "outputs": [
    {
     "data": {
      "image/png": "[encoded data removed]",
      "text/plain": [
       "<Figure size 864x432 with 1 Axes>"
      ]
     },
     "metadata": {
      "needs_background": "light"
     },
     "output_type": "display_data"
    }
   ],
   "source": [
    "plt.figure(figsize=(12, 6))\n",
    "sns.scatterplot(x=y_test, y=y_pred, color='b', alpha=0.9, edgecolor='k', s=80)\n",
    "sns.regplot(x=y_test, y=y_pred, scatter=False, color='r', line_kws={\"color\": \"orange\", \"lw\": 2})\n",
    "\n",
    "plt.xlabel(\"Actual Values\", fontsize=14)\n",
    "plt.ylabel(\"Predicted Values\", fontsize=14)\n",
    "plt.title(\"Model Performance - Actual vs. Predicted Values\", fontsize=16)\n",
    "\n",
    "plt.show()"
   ]
  },
  {
   "cell_type": "code",
   "execution_count": null,
   "id": "c4d25116",
   "metadata": {},
   "outputs": [],
   "source": []
  }
 ],
 "metadata": {
  "kernelspec": {
   "display_name": "Python 3 (ipykernel)",
   "language": "python",
   "name": "python3"
  },
  "language_info": {
   "codemirror_mode": {
    "name": "ipython",
    "version": 3
   },
   "file_extension": ".py",
   "mimetype": "text/x-python",
   "name": "python",
   "nbconvert_exporter": "python",
   "pygments_lexer": "ipython3",
   "version": "3.9.12"
  }
 },
 "nbformat": 4,
 "nbformat_minor": 5
}
